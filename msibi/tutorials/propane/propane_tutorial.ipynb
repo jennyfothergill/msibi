{
 "cells": [
  {
   "cell_type": "markdown",
   "metadata": {},
   "source": [
    "# Propane Tutorial\n",
    "\n",
    "Created by Davy Yue 2017-06-14\n",
    "\n",
    "\n",
    "### Imports"
   ]
  },
  {
   "cell_type": "code",
   "execution_count": null,
   "metadata": {
    "collapsed": true
   },
   "outputs": [],
   "source": [
    "import itertools\n",
    "import string\n",
    "import os\n",
    "\n",
    "import numpy as np\n",
    "\n",
    "from msibi import MSIBI, State, Pair, mie"
   ]
  },
  {
   "cell_type": "markdown",
   "metadata": {},
   "source": [
    "### Remove files generated during CG simulation"
   ]
  },
  {
   "cell_type": "code",
   "execution_count": null,
   "metadata": {},
   "outputs": [],
   "source": [
    "os.system('rm rdfs/pair_C3*_state*-step*.txt f_fits.log')\n",
    "os.system('rm state_*/*.txt state*/run.py state*/*query.dcd')"
   ]
  },
  {
   "cell_type": "markdown",
   "metadata": {},
   "source": [
    "### Set up global parameters\n",
    "Cutoff radius set to 5.0 units. Parameters including number of data points and potential cutoff are passed to `MSIBI`."
   ]
  },
  {
   "cell_type": "code",
   "execution_count": null,
   "metadata": {
    "collapsed": true
   },
   "outputs": [],
   "source": [
    "rdf_cutoff = 5.0\n",
    "opt = MSIBI(rdf_cutoff=rdf_cutoff, n_rdf_points=201, pot_cutoff=3.0,\n",
    "        smooth_rdfs=True)"
   ]
  },
  {
   "cell_type": "markdown",
   "metadata": {},
   "source": [
    "### Specify states\n",
    "States each are initialized with different temperatures, directories, and start.hoomdxml files. \n",
    "\n",
    "A list `states` contains all the individual states: `stateA`, `stateB`, `stateC`."
   ]
  },
  {
   "cell_type": "code",
   "execution_count": null,
   "metadata": {
    "collapsed": true
   },
   "outputs": [],
   "source": [
    "stateA = State(kT=0.5, state_dir='./state_A', top_file='start.hoomdxml',\n",
    "               name='stateA', backup_trajectory=True)\n",
    "stateB = State(kT=1.5, state_dir='./state_B', top_file='start.hoomdxml',\n",
    "               name='stateB', backup_trajectory=True)\n",
    "stateC = State(kT=2.0, state_dir='./state_C', top_file='start.hoomdxml',\n",
    "               name='stateC', backup_trajectory=True)\n",
    "states = [stateA, stateB, stateC]"
   ]
  },
  {
   "cell_type": "markdown",
   "metadata": {},
   "source": [
    "### Specify pairs\n",
    "\n",
    "Creates a list of all the possible indices for the 1024 atoms. \n",
    "\n",
    "Passes the type of interaction to be optimized, a `C3` to itself, to `Pair`. Sets the alpha values to `1.0`"
   ]
  },
  {
   "cell_type": "code",
   "execution_count": null,
   "metadata": {},
   "outputs": [],
   "source": [
    "indices = list(itertools.combinations(range(1024), 2))  # all-all for 1024 atoms\n",
    "\n",
    "initial_guess = mie(opt.pot_r, 1.0, 1.0)  # 1-D array of potential values.\n",
    "alphabet = ['A', 'B', 'C']\n",
    "rdf_targets = [np.loadtxt('rdfs/C3-C3-state_{0}.txt'.format(i))\n",
    "                for i in alphabet]\n",
    "\n",
    "pair0 = Pair('C3', 'C3', initial_guess)\n",
    "alphas = [1.0, 1.0, 1.0]"
   ]
  },
  {
   "cell_type": "markdown",
   "metadata": {},
   "source": [
    "### Add targets to pair\n",
    "\n",
    "Loops through each `state`, `target`, and `alpha` in `zip`. Adds the appropriate states, and converts `pair0` into a list for the `optimize()` function."
   ]
  },
  {
   "cell_type": "code",
   "execution_count": null,
   "metadata": {
    "collapsed": true
   },
   "outputs": [],
   "source": [
    "for state, target, alpha in zip(states, rdf_targets, alphas):\n",
    "    pair0.add_state(state, target, alpha, indices)\n",
    "pairs = [pair0]"
   ]
  },
  {
   "cell_type": "markdown",
   "metadata": {},
   "source": [
    "### Do magic\n",
    "\n",
    "Sprinkle fairy dust over the code.\n",
    "\n",
    "\n",
    "Calls the `optimize` function with the parameters given. \n",
    "Performs five iterations, with each successive iteration usually producing finer, better output. \n",
    "Uses the `hoomd` engine to run the simulations."
   ]
  },
  {
   "cell_type": "code",
   "execution_count": null,
   "metadata": {},
   "outputs": [],
   "source": [
    "opt.optimize(states, pairs, n_iterations=5, engine='hoomd')"
   ]
  },
  {
   "cell_type": "code",
   "execution_count": null,
   "metadata": {
    "collapsed": true
   },
   "outputs": [],
   "source": []
  }
 ],
 "metadata": {
  "kernelspec": {
   "display_name": "Python 3",
   "language": "python",
   "name": "python3"
  },
  "language_info": {
   "codemirror_mode": {
    "name": "ipython",
    "version": 3
   },
   "file_extension": ".py",
   "mimetype": "text/x-python",
   "name": "python",
   "nbconvert_exporter": "python",
   "pygments_lexer": "ipython3",
   "version": "3.5.3"
  },
  "widgets": {
   "state": {
    "0167551767ac4299a760fb1f479ad1b1": {
     "views": [
      {
       "cell_index": 2
      }
     ]
    },
    "0c7a72e241b341ab8ca29ce3292b3ea3": {
     "views": [
      {
       "cell_index": 2
      }
     ]
    },
    "1fca05dfeb3d4987893759f4cc0520ea": {
     "views": [
      {
       "cell_index": 3
      }
     ]
    },
    "56215d591c034eff8b0899b7e18d5cba": {
     "views": [
      {
       "cell_index": 3
      }
     ]
    }
   },
   "version": "1.2.0"
  }
 },
 "nbformat": 4,
 "nbformat_minor": 1
}
