{
 "cells": [
  {
   "cell_type": "markdown",
   "metadata": {},
   "source": [
    "# Propane Tutorial\n",
    "\n",
    "\n",
    "### Imports"
   ]
  },
  {
   "cell_type": "code",
   "execution_count": 1,
   "metadata": {
    "tags": []
   },
   "outputs": [],
   "source": [
    "import itertools\n",
    "import string\n",
    "\n",
    "import hoomd\n",
    "import hoomd.md\n",
    "from hoomd.deprecated.init import read_xml\n",
    "import numpy as np\n",
    "\n",
    "from msibi import MSIBI, State, Pair, mie"
   ]
  },
  {
   "cell_type": "markdown",
   "metadata": {},
   "source": [
    "### Remove files generated during CG simulation"
   ]
  },
  {
   "cell_type": "code",
   "execution_count": 2,
   "metadata": {},
   "outputs": [],
   "source": [
    "%%bash\n",
    "rm -rf rdfs/pair* f_fits.log state*/*.txt state*/run.py state*/*query.dcd"
   ]
  },
  {
   "cell_type": "code",
   "execution_count": 3,
   "metadata": {},
   "outputs": [],
   "source": [
    "kTs = [0.5, 1.5, 2.0]"
   ]
  },
  {
   "cell_type": "code",
   "execution_count": null,
   "metadata": {},
   "outputs": [
    {
     "name": "stdout",
     "output_type": "stream",
     "text": [
      "HOOMD-blue 2.9.6 DOUBLE HPMC_MIXED TBB SSE SSE2 SSE3 \n",
      "Compiled: 03/17/2021\n",
      "Copyright (c) 2009-2019 The Regents of the University of Michigan.\n",
      "-----\n",
      "You are using HOOMD-blue. Please cite the following:\n",
      "* J A Anderson, J Glaser, and S C Glotzer. \"HOOMD-blue: A Python package for\n",
      "  high-performance molecular dynamics and hard particle Monte Carlo\n",
      "  simulations\", Computational Materials Science 173 (2020) 109363\n",
      "-----\n",
      "HOOMD-blue is running on the CPU\n",
      "notice(2): Reading state_0/start.hoomdxml...\n",
      "notice(2): No version specified in hoomd_xml root node: assuming 1.0\n",
      "notice(2): --- hoomd_xml file read summary\n",
      "notice(2): 1024 positions at timestep 0\n",
      "notice(2): 1024 masses\n",
      "notice(2): 1 particle types\n",
      "notice(2): 1024 charges\n",
      "notice(2): Group \"all\" created containing 1024 particles\n",
      "notice(2): -- Neighborlist exclusion statistics -- :\n",
      "notice(2): Particles with 0 exclusions             : 1024\n",
      "notice(2): Neighbors included by diameter          : no\n",
      "notice(2): Neighbors excluded when in the same body: no\n",
      "** starting run **\n",
      "Time 00:00:10 | Step 15180 / 1000000 | TPS 1518 | ETA 00:10:48\n",
      "Time 00:00:20 | Step 29641 / 1000000 | TPS 1446.09 | ETA 00:11:11\n",
      "Time 00:00:30 | Step 43472 / 1000000 | TPS 1383.1 | ETA 00:11:31\n",
      "Time 00:00:40 | Step 57406 / 1000000 | TPS 1393.36 | ETA 00:11:16\n",
      "Time 00:00:50 | Step 71261 / 1000000 | TPS 1385.46 | ETA 00:11:10\n",
      "Time 00:01:00 | Step 84693 / 1000000 | TPS 1343.12 | ETA 00:11:21\n",
      "Time 00:01:10 | Step 97676 / 1000000 | TPS 1298.3 | ETA 00:11:35\n",
      "Time 00:01:20 | Step 110209 / 1000000 | TPS 1253.22 | ETA 00:11:50\n",
      "Time 00:01:30 | Step 122751 / 1000000 | TPS 1254.17 | ETA 00:11:39\n",
      "Time 00:01:40 | Step 134547 / 1000000 | TPS 1179.56 | ETA 00:12:13\n",
      "Time 00:01:50 | Step 146670 / 1000000 | TPS 1212.29 | ETA 00:11:43\n",
      "Time 00:02:00 | Step 159125 / 1000000 | TPS 1245.4 | ETA 00:11:15\n",
      "Time 00:02:10 | Step 171385 / 1000000 | TPS 1225.96 | ETA 00:11:15\n",
      "Time 00:02:20 | Step 184426 / 1000000 | TPS 1304.1 | ETA 00:10:25\n",
      "Time 00:02:30 | Step 196665 / 1000000 | TPS 1223.85 | ETA 00:10:56\n",
      "Time 00:02:40 | Step 209370 / 1000000 | TPS 1270.42 | ETA 00:10:22\n",
      "Time 00:02:50 | Step 221801 / 1000000 | TPS 1241.95 | ETA 00:10:26\n",
      "Time 00:03:00 | Step 232856 / 1000000 | TPS 1105.47 | ETA 00:11:33\n",
      "Time 00:03:10 | Step 245401 / 1000000 | TPS 1254.47 | ETA 00:10:01\n",
      "Time 00:03:20 | Step 258301 / 1000000 | TPS 1289.87 | ETA 00:09:35\n",
      "Time 00:03:30 | Step 271773 / 1000000 | TPS 1347.18 | ETA 00:09:00\n",
      "Time 00:03:40 | Step 285181 / 1000000 | TPS 1340.74 | ETA 00:08:53\n",
      "Time 00:03:50 | Step 298727 / 1000000 | TPS 1354.59 | ETA 00:08:37\n",
      "Time 00:04:00 | Step 312388 / 1000000 | TPS 1366.07 | ETA 00:08:23\n",
      "Time 00:04:10 | Step 325358 / 1000000 | TPS 1296.92 | ETA 00:08:40\n",
      "Time 00:04:20 | Step 337401 / 1000000 | TPS 1204.15 | ETA 00:09:10\n",
      "Time 00:04:30 | Step 350327 / 1000000 | TPS 1292.52 | ETA 00:08:22\n",
      "Time 00:04:40 | Step 363750 / 1000000 | TPS 1342.23 | ETA 00:07:54\n",
      "Time 00:04:50 | Step 377447 / 1000000 | TPS 1369.69 | ETA 00:07:34\n",
      "Time 00:05:00 | Step 391322 / 1000000 | TPS 1387.49 | ETA 00:07:18\n",
      "Time 00:05:10 | Step 405256 / 1000000 | TPS 1393.32 | ETA 00:07:06\n",
      "Time 00:05:20 | Step 418971 / 1000000 | TPS 1371.42 | ETA 00:07:03\n",
      "Time 00:05:30 | Step 432509 / 1000000 | TPS 1353.79 | ETA 00:06:59\n",
      "Time 00:05:40 | Step 446101 / 1000000 | TPS 1358.57 | ETA 00:06:47\n",
      "Time 00:05:50 | Step 458034 / 1000000 | TPS 1193.26 | ETA 00:07:34\n",
      "Time 00:06:00 | Step 471371 / 1000000 | TPS 1333.65 | ETA 00:06:36\n",
      "Time 00:06:10 | Step 484527 / 1000000 | TPS 1315.6 | ETA 00:06:31\n",
      "Time 00:06:20 | Step 497499 / 1000000 | TPS 1297.15 | ETA 00:06:27\n",
      "Time 00:06:30 | Step 510601 / 1000000 | TPS 1310.08 | ETA 00:06:13\n",
      "Time 00:06:40 | Step 523670 / 1000000 | TPS 1306.86 | ETA 00:06:04\n",
      "Time 00:06:50 | Step 537246 / 1000000 | TPS 1357.55 | ETA 00:05:40\n",
      "Time 00:07:00 | Step 550016 / 1000000 | TPS 1276.94 | ETA 00:05:52\n",
      "Time 00:07:10 | Step 562767 / 1000000 | TPS 1275.04 | ETA 00:05:42\n",
      "Time 00:07:20 | Step 576201 / 1000000 | TPS 1342.91 | ETA 00:05:15\n",
      "Time 00:07:30 | Step 588592 / 1000000 | TPS 1239.05 | ETA 00:05:32\n",
      "Time 00:07:40 | Step 601825 / 1000000 | TPS 1323.26 | ETA 00:05:00\n",
      "Time 00:07:50 | Step 614914 / 1000000 | TPS 1308.83 | ETA 00:04:54\n",
      "Time 00:08:00 | Step 628326 / 1000000 | TPS 1341.13 | ETA 00:04:37\n",
      "Time 00:08:10 | Step 640777 / 1000000 | TPS 1245.1 | ETA 00:04:48\n",
      "Time 00:08:20 | Step 654280 / 1000000 | TPS 1350.3 | ETA 00:04:16\n",
      "Time 00:08:30 | Step 667285 / 1000000 | TPS 1300.47 | ETA 00:04:15\n",
      "Time 00:08:40 | Step 681101 / 1000000 | TPS 1381.19 | ETA 00:03:50\n",
      "Time 00:08:50 | Step 694586 / 1000000 | TPS 1348.41 | ETA 00:03:46\n",
      "Time 00:09:00 | Step 708471 / 1000000 | TPS 1388.43 | ETA 00:03:29\n",
      "Time 00:09:10 | Step 720203 / 1000000 | TPS 1173.17 | ETA 00:03:58\n"
     ]
    }
   ],
   "source": [
    "# This cell takes 40 minutes. Don't uncomment and rerun it unless you have a good reason.\n",
    "# trajectory{kT}.gsd files were created here\n",
    "# lj params from doi:10.1088/0957-4484/18/42/424007\n",
    "#         ε(kcal/mol)  σ(A ̊)\n",
    "# Propane    0.553     4.66\n",
    "for i,kT in enumerate(kTs):\n",
    "    hoomd.context.initialize(\"\")\n",
    "    system = read_xml(f\"state_{i}/start.hoomdxml\")\n",
    "    \n",
    "    nl = hoomd.md.nlist.cell()\n",
    "    lj = hoomd.md.pair.lj(r_cut=2.5, nlist=nl)\n",
    "    lj.pair_coeff.set(\"C3\", \"C3\", epsilon=1.0, sigma=1.0)\n",
    "    hoomd.md.integrate.mode_standard(dt=0.001)\n",
    "    _all = hoomd.group.all()\n",
    "    nvt = hoomd.md.integrate.nvt(group=_all, kT=kT, tau=1)\n",
    "    nvt.randomize_velocities(seed=23)\n",
    "    hoomd.analyze.log(\n",
    "        filename=f\"state_{i}/propane_kT{kT}.log\",\n",
    "        quantities=[\"time\", \"temperature\", \"potential_energy\"],\n",
    "        period=100,\n",
    "        overwrite=True\n",
    "    )\n",
    "    hoomd.dump.gsd(f\"state_{i}/trajectory{kT}.gsd\", period=5e3, group=_all, overwrite=True)\n",
    "    hoomd.run(1e6)"
   ]
  },
  {
   "cell_type": "code",
   "execution_count": null,
   "metadata": {},
   "outputs": [],
   "source": [
    "fig, (ax1, ax2) = plt.subplots(1, 2, sharey=True)\n",
    "fig.suptitle(\"Potential Energy vs Timestep\")\n",
    "for i, kT in enumerate(kTs):   \n",
    "    log = np.loadtxt(f\"state_{i}/propane_kT{kT}.log\", skiprows=1)\n",
    "    ax1.plot(log[:,0],log[:,3], label=f\"kT={kT}\")\n",
    "    ax2.plot(log[-50:,0],log[-50:,3], label=f\"kT={kT}\")\n",
    "    ax1.set_xlabel(\"Timestep\")\n",
    "    ax2.set_xlabel(\"Timestep\")\n",
    "    ax1.set_ylabel(\"Potential Energy (AU)\")\n",
    "    ax1.legend()\n",
    "    ax2.legend()"
   ]
  },
  {
   "cell_type": "markdown",
   "metadata": {},
   "source": [
    "### Set up global parameters\n",
    "Cutoff radius set to 5.0 units. Parameters including number of data points and potential cutoff are passed to `MSIBI`."
   ]
  },
  {
   "cell_type": "markdown",
   "metadata": {},
   "source": [
    "### Specify states\n",
    "States each are initialized with different temperatures, directories, and start.hoomdxml files. \n",
    "\n",
    "A list `states` contains all the individual states: `stateA`, `stateB`, `stateC`."
   ]
  },
  {
   "cell_type": "code",
   "execution_count": null,
   "metadata": {
    "tags": []
   },
   "outputs": [],
   "source": [
    "state0 = State(\n",
    "    kT=0.5, \n",
    "    state_dir=\"./state_0\", \n",
    "    traj_file=\"trajectory0.5.gsd\",\n",
    "    name=\"state0\", \n",
    "    backup_trajectory=True\n",
    ")\n",
    "state1 = State(\n",
    "    kT=1.5, \n",
    "    state_dir=\"./state_1\", \n",
    "    traj_file=\"trajectory1.5.gsd\",\n",
    "    name=\"state1\",\n",
    "    backup_trajectory=True\n",
    ")\n",
    "state2 = State(\n",
    "    kT=2.0, \n",
    "    state_dir=\"./state_2\", \n",
    "    traj_file=\"trajectory2.0.gsd\",\n",
    "    name=\"state2\", \n",
    "    backup_trajectory=True\n",
    ")\n",
    "states = [state0, state1, state2]"
   ]
  },
  {
   "cell_type": "markdown",
   "metadata": {},
   "source": [
    "### Specify pairs\n",
    "\n",
    "Creates a list of all the possible indices for the 1024 atoms. \n",
    "\n",
    "Passes the type of interaction to be optimized, a `C3` to itself, to `Pair`. Sets the alpha values to `1.0`"
   ]
  },
  {
   "cell_type": "code",
   "execution_count": null,
   "metadata": {},
   "outputs": [],
   "source": [
    "indices = list(itertools.combinations(range(1024), 2))  # all-all for 1024 atoms\n",
    "\n",
    "initial_guess = mie(opt.pot_r, 1.0, 1.0)  # 1-D array of potential values.\n",
    "alphabet = [\"A\", \"B\", \"C\"]\n",
    "rdf_targets = [np.loadtxt(f\"rdfs/C3-C3-state_{i}.txt\") for i in alphabet]\n",
    "\n",
    "pair0 = Pair(\"C3\", \"C3\", initial_guess)\n",
    "alphas = [1.0, 1.0, 1.0]"
   ]
  },
  {
   "cell_type": "markdown",
   "metadata": {},
   "source": [
    "### Add targets to pair\n",
    "\n",
    "Loops through each `state`, `target`, and `alpha` in `zip`. Adds the appropriate states, and converts `pair0` into a list for the `optimize()` function."
   ]
  },
  {
   "cell_type": "code",
   "execution_count": null,
   "metadata": {},
   "outputs": [],
   "source": [
    "for state, target, alpha in zip(states, rdf_targets, alphas):\n",
    "    pair0.add_state(state, target, alpha, indices)\n",
    "pairs = [pair0]"
   ]
  },
  {
   "cell_type": "markdown",
   "metadata": {},
   "source": [
    "### Do magic\n",
    "\n",
    "Sprinkle fairy dust over the code.\n",
    "\n",
    "\n",
    "Calls the `optimize` function with the parameters given. \n",
    "Performs five iterations, with each successive iteration usually producing finer, better output. \n",
    "Uses the `hoomd` engine to run the simulations."
   ]
  },
  {
   "cell_type": "code",
   "execution_count": null,
   "metadata": {},
   "outputs": [],
   "source": [
    "opt.optimize(states, pairs, n_iterations=5, engine=\"hoomd\")"
   ]
  },
  {
   "cell_type": "code",
   "execution_count": null,
   "metadata": {
    "tags": []
   },
   "outputs": [],
   "source": []
  }
 ],
 "metadata": {
  "kernelspec": {
   "display_name": "Python 3",
   "language": "python",
   "name": "python3"
  },
  "language_info": {
   "codemirror_mode": {
    "name": "ipython",
    "version": 3
   },
   "file_extension": ".py",
   "mimetype": "text/x-python",
   "name": "python",
   "nbconvert_exporter": "python",
   "pygments_lexer": "ipython3",
   "version": "3.7.10"
  },
  "widgets": {
   "state": {
    "0167551767ac4299a760fb1f479ad1b1": {
     "views": [
      {
       "cell_index": 2
      }
     ]
    },
    "0c7a72e241b341ab8ca29ce3292b3ea3": {
     "views": [
      {
       "cell_index": 2
      }
     ]
    },
    "1fca05dfeb3d4987893759f4cc0520ea": {
     "views": [
      {
       "cell_index": 3
      }
     ]
    },
    "56215d591c034eff8b0899b7e18d5cba": {
     "views": [
      {
       "cell_index": 3
      }
     ]
    }
   },
   "version": "1.2.0"
  }
 },
 "nbformat": 4,
 "nbformat_minor": 4
}
